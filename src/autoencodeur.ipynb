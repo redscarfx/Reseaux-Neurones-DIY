{
 "cells": [
  {
   "cell_type": "code",
   "execution_count": 1,
   "id": "5a9e411e",
   "metadata": {},
   "outputs": [],
   "source": [
    "import matplotlib.pyplot as plt\n",
    "import numpy as np\n",
    "import seaborn as sns\n",
    "sns.set_style(\"whitegrid\")\n",
    "from sklearn.model_selection import train_test_split\n",
    "from sklearn.metrics import classification_report, confusion_matrix\n",
    "import pandas as pd\n",
    "\n",
    "from modules.linear import *\n",
    "from modules.loss import *\n",
    "from modules.activation import *\n",
    "from modules.sequential import *\n",
    "from tests.test_linear import *\n",
    "from tests.test_activation import *\n"
   ]
  },
  {
   "cell_type": "markdown",
   "id": "48f00e03",
   "metadata": {},
   "source": [
    "## Fashion MNIST Test (10 classes) "
   ]
  },
  {
   "cell_type": "code",
   "execution_count": 2,
   "id": "2d08b859",
   "metadata": {},
   "outputs": [
    {
     "data": {
      "text/plain": [
       "(56000, 784)"
      ]
     },
     "metadata": {},
     "output_type": "display_data"
    },
    {
     "data": {
      "text/plain": [
       "(56000, 10)"
      ]
     },
     "metadata": {},
     "output_type": "display_data"
    },
    {
     "data": {
      "text/plain": [
       "(14000, 784)"
      ]
     },
     "metadata": {},
     "output_type": "display_data"
    },
    {
     "data": {
      "text/plain": [
       "(14000, 10)"
      ]
     },
     "metadata": {},
     "output_type": "display_data"
    },
    {
     "data": {
      "text/plain": [
       "0.0"
      ]
     },
     "metadata": {},
     "output_type": "display_data"
    },
    {
     "data": {
      "text/plain": [
       "1.0"
      ]
     },
     "metadata": {},
     "output_type": "display_data"
    },
    {
     "data": {
      "text/plain": [
       "0.0"
      ]
     },
     "metadata": {},
     "output_type": "display_data"
    },
    {
     "data": {
      "text/plain": [
       "1.0"
      ]
     },
     "metadata": {},
     "output_type": "display_data"
    }
   ],
   "source": [
    "from sklearn.datasets import fetch_openml\n",
    "mnist = fetch_openml('Fashion-MNIST', version=1, as_frame=False)\n",
    "X, y = mnist.data, mnist.target.astype(int)\n",
    "X_train, X_test, y_train, y_test = train_test_split(X, y, test_size=0.2, random_state=42)\n",
    "y_train = np.eye(len(set(y_train)))[y_train]\n",
    "y_test = np.eye(len(set(y_test)))[y_test]\n",
    "classes_names_fashion_mnist = ['T-shirt/top', 'Trouser', 'Pullover', 'Dress', 'Coat', 'Sandal', 'Shirt', 'Sneaker', 'Bag', 'Ankle boot']\n",
    "X_train = X_train/255.0\n",
    "X_test = X_test/255.0\n",
    "display(X_train.shape, y_train.shape, X_test.shape, y_test.shape)\n",
    "display(X_train.min(), X_train.max(), X_test.min(), X_test.max())\n",
    "\n"
   ]
  },
  {
   "cell_type": "code",
   "execution_count": 3,
   "id": "9cec09ee",
   "metadata": {},
   "outputs": [],
   "source": [
    "def display_images(images, ncols=5, figsize=(15, 6)):\n",
    "    nrows = len(images) // ncols + (len(images) % ncols > 0)\n",
    "    fig, axes = plt.subplots(nrows, ncols, figsize=figsize)\n",
    "    for i, ax in enumerate(axes.flat):\n",
    "        if i < len(images):\n",
    "            ax.imshow(images[i].reshape(28, 28), cmap='gray')\n",
    "            ax.axis('off')\n",
    "        else:\n",
    "            ax.axis('off')\n",
    "    plt.tight_layout()\n",
    "    plt.show()\n",
    " "
   ]
  },
  {
   "cell_type": "markdown",
   "id": "7c7102dc",
   "metadata": {},
   "source": [
    "# Model 1"
   ]
  },
  {
   "cell_type": "code",
   "execution_count": 35,
   "id": "11e521f7",
   "metadata": {},
   "outputs": [
    {
     "name": "stderr",
     "output_type": "stream",
     "text": [
      "  0%|          | 0/100 [00:00<?, ?it/s]"
     ]
    },
    {
     "name": "stderr",
     "output_type": "stream",
     "text": [
      "  1%|          | 1/100 [00:10<17:05, 10.36s/it]"
     ]
    },
    {
     "name": "stdout",
     "output_type": "stream",
     "text": [
      "Epoch 0 - Train Loss: 0.696593354882949 - Test Loss: 0.6789670511393932\n"
     ]
    },
    {
     "name": "stderr",
     "output_type": "stream",
     "text": [
      " 26%|██▌       | 26/100 [03:55<11:01,  8.94s/it]"
     ]
    },
    {
     "name": "stdout",
     "output_type": "stream",
     "text": [
      "Epoch 25 - Train Loss: 0.4480274325262031 - Test Loss: 0.43891391510840017\n"
     ]
    },
    {
     "name": "stderr",
     "output_type": "stream",
     "text": [
      " 51%|█████     | 51/100 [07:27<06:56,  8.50s/it]"
     ]
    },
    {
     "name": "stdout",
     "output_type": "stream",
     "text": [
      "Epoch 50 - Train Loss: 0.4200665314249022 - Test Loss: 0.4177757127958991\n"
     ]
    },
    {
     "name": "stderr",
     "output_type": "stream",
     "text": [
      " 76%|███████▌  | 76/100 [11:01<03:23,  8.50s/it]"
     ]
    },
    {
     "name": "stdout",
     "output_type": "stream",
     "text": [
      "Epoch 75 - Train Loss: 0.4090568718526133 - Test Loss: 0.4068067264380088\n"
     ]
    },
    {
     "name": "stderr",
     "output_type": "stream",
     "text": [
      "100%|██████████| 100/100 [14:28<00:00,  8.69s/it]\n"
     ]
    },
    {
     "data": {
      "text/plain": [
       "0.4024903717007413"
      ]
     },
     "metadata": {},
     "output_type": "display_data"
    }
   ],
   "source": [
    "# my okay model\n",
    "module1 = Linear(X_train.shape[1], 256)\n",
    "module2 = Linear(256, 64)\n",
    "module5 = Linear(64,256, weight=module2._parameters[\"w\"].T)\n",
    "module6 = Linear(256, X_train.shape[1], weight=module1._parameters[\"w\"].T)\n",
    "act = LeakyReLU(0.1)\n",
    "model = Sequential([module1,act,module2, TanH(), module5, act, module6,Sigmoid()])\n",
    "loss_train, loss_test = [], []\n",
    "loss = BCELoss()\n",
    "optim = Optim(model, loss=loss, eps=1e-1)\n",
    "for i in tqdm(range(100)):\n",
    "\tif i < 25:\n",
    "\t\teps = 1e-1\n",
    "\telif i < 90:\n",
    "\t\teps = 1e-2\n",
    "\telse:\n",
    "\t\teps = 3*1e-3\n",
    "\tlt, lte = optim.step(X_train, X_train, X_test, X_test, eps=eps)\n",
    "\tloss_train.append(lt)\n",
    "\tloss_test.append(lte)\n",
    "\tif i % 25 == 0:\n",
    "\t\tprint(f\"Epoch {i} - Train Loss: {lt} - Test Loss: {lte}\")\n",
    "\n",
    "loss, pred = optim.test(X_test[:10], X_test[:10])\n",
    "df = pd.DataFrame(loss_train)\n",
    "display(loss_train[-1])"
   ]
  },
  {
   "cell_type": "code",
   "execution_count": 37,
   "id": "1a9fed6b",
   "metadata": {},
   "outputs": [
    {
     "name": "stdout",
     "output_type": "stream",
     "text": [
      "Loss enregistrées dans : models/loss1.csv\n",
      "Modèle entraîné enregistré dans : models/model1.pkl\n"
     ]
    }
   ],
   "source": [
    "import pickle\n",
    "\n",
    "df_loss = pd.DataFrame({\n",
    "    'Train Loss':  loss_train,\n",
    "    'Test Loss':   loss_test\n",
    "})\n",
    "csv_path = \"models/loss1.csv\"\n",
    "df_loss.to_csv(csv_path, index=False)\n",
    "print(f\"Loss enregistrées dans : {csv_path}\")\n",
    "\n",
    "model_path = \"models/model1.pkl\"\n",
    "with open(model_path, \"wb\") as f:\n",
    "    pickle.dump(optim, f)\n",
    "print(f\"Modèle entraîné enregistré dans : {model_path}\")\n"
   ]
  },
  {
   "cell_type": "markdown",
   "id": "b8fb206c",
   "metadata": {},
   "source": [
    "# Model 2 (numero 4 by Louis)"
   ]
  },
  {
   "cell_type": "code",
   "execution_count": 31,
   "id": "69164010",
   "metadata": {},
   "outputs": [
    {
     "name": "stderr",
     "output_type": "stream",
     "text": [
      "  0%|          | 0/50 [00:00<?, ?it/s]"
     ]
    },
    {
     "name": "stderr",
     "output_type": "stream",
     "text": [
      "  2%|▏         | 1/50 [00:14<12:02, 14.74s/it]"
     ]
    },
    {
     "name": "stdout",
     "output_type": "stream",
     "text": [
      "Epoch 0 - Train Loss: 0.4154 - Test Loss: 0.3593\n"
     ]
    },
    {
     "name": "stderr",
     "output_type": "stream",
     "text": [
      " 22%|██▏       | 11/50 [03:40<14:39, 22.55s/it]"
     ]
    },
    {
     "name": "stdout",
     "output_type": "stream",
     "text": [
      "Epoch 10 - Train Loss: 0.2943 - Test Loss: 0.2967\n"
     ]
    },
    {
     "name": "stderr",
     "output_type": "stream",
     "text": [
      " 42%|████▏     | 21/50 [08:41<17:55, 37.09s/it]"
     ]
    },
    {
     "name": "stdout",
     "output_type": "stream",
     "text": [
      "Epoch 20 - Train Loss: 0.2849 - Test Loss: 0.2840\n"
     ]
    },
    {
     "name": "stderr",
     "output_type": "stream",
     "text": [
      " 62%|██████▏   | 31/50 [11:12<04:59, 15.76s/it]"
     ]
    },
    {
     "name": "stdout",
     "output_type": "stream",
     "text": [
      "Epoch 30 - Train Loss: 0.2810 - Test Loss: 0.2810\n"
     ]
    },
    {
     "name": "stderr",
     "output_type": "stream",
     "text": [
      " 82%|████████▏ | 41/50 [16:36<02:43, 18.18s/it]"
     ]
    },
    {
     "name": "stdout",
     "output_type": "stream",
     "text": [
      "Epoch 40 - Train Loss: 0.2792 - Test Loss: 0.2785\n"
     ]
    },
    {
     "name": "stderr",
     "output_type": "stream",
     "text": [
      "100%|██████████| 50/50 [22:33<00:00, 27.08s/it]\n"
     ]
    },
    {
     "data": {
      "image/png": "[encoded data removed]",
      "text/plain": [
       "<Figure size 1500x600 with 10 Axes>"
      ]
     },
     "metadata": {},
     "output_type": "display_data"
    },
    {
     "data": {
      "image/png": "[encoded data removed]",
      "text/plain": [
       "<Figure size 1500x600 with 10 Axes>"
      ]
     },
     "metadata": {},
     "output_type": "display_data"
    },
    {
     "data": {
      "text/plain": [
       "0.2783937871904012"
      ]
     },
     "metadata": {},
     "output_type": "display_data"
    },
    {
     "data": {
      "image/png": "[encoded data removed]",
      "text/plain": [
       "<Figure size 640x480 with 1 Axes>"
      ]
     },
     "metadata": {},
     "output_type": "display_data"
    }
   ],
   "source": [
    "module1 = Linear(784, 264)\n",
    "module2 = Linear(264, 88)\n",
    "module3 = Linear(88, 30)\n",
    "module4 = Linear(30, 88, weight=module3._parameters[\"w\"].T)\n",
    "module5 = Linear(88, 264, weight=module2._parameters[\"w\"].T)\n",
    "module6 = Linear(264, 784, weight=module1._parameters[\"w\"].T)\n",
    "act = LeakyReLU(0.01)\n",
    "\n",
    "model = Sequential([\n",
    "    module1, act,\n",
    "    module2, act,\n",
    "    module3, act,\n",
    "    module4, act,\n",
    "    module5, act,\n",
    "    module6, Sigmoid()\n",
    "])\n",
    "\n",
    "loss = BCELoss()\n",
    "eps_init = 1e-1\n",
    "optim = Optim(model, loss=loss, eps=eps_init)\n",
    "\n",
    "# Entraînement avec mini-batch et décroissance de eps\n",
    "loss_train, loss_test = [], []\n",
    "batch_size = 128\n",
    "n_epochs = 50\n",
    "\n",
    "for epoch in tqdm(range(n_epochs)):\n",
    "    eps = eps_init * (0.95 ** epoch)\n",
    "    epoch_loss = 0\n",
    "    indices = np.random.permutation(len(X_train))\n",
    "    X_shuffled = X_train[indices]\n",
    "    y_shuffled = X_train[indices]  # auto-encodeur => y = x\n",
    "\n",
    "    for i in range(0, len(X_train), batch_size):\n",
    "        xb = X_shuffled[i:i + batch_size]\n",
    "        yb = y_shuffled[i:i + batch_size]\n",
    "        lt, _ = optim.step(xb, yb, None, None, eps=eps)\n",
    "        epoch_loss += lt * len(xb)\n",
    "\n",
    "    loss_train.append(epoch_loss / len(X_train))\n",
    "\n",
    "    # Calcul de la perte sur test\n",
    "    lte, _ = optim.test(X_test, X_test)\n",
    "    loss_test.append(lte)\n",
    "\n",
    "    if epoch % 10 == 0:\n",
    "        print(f\"Epoch {epoch} - Train Loss: {loss_train[-1]:.4f} - Test Loss: {loss_test[-1]:.4f}\")\n",
    "        \n",
    "loss, pred = optim.test(X_test[:10], X_test[:10])\n",
    "display_images(X_test[:10], ncols=10, figsize=(15, 6))\n",
    "display_images(pred[:10], ncols=10, figsize=(15, 6))\n",
    "df = pd.DataFrame(loss_train)\n",
    "sns.lineplot(data=df, palette=\"tab10\", linewidth=2.5)\n",
    "display(loss_train[-1])"
   ]
  },
  {
   "cell_type": "code",
   "execution_count": 34,
   "id": "3014997e",
   "metadata": {},
   "outputs": [
    {
     "name": "stdout",
     "output_type": "stream",
     "text": [
      "Loss enregistrées dans : models/loss2.csv\n",
      "Modèle entraîné enregistré dans : models/model2.pkl\n"
     ]
    }
   ],
   "source": [
    "import pickle\n",
    "\n",
    "df_loss = pd.DataFrame({\n",
    "    'Train Loss':  loss_train,\n",
    "    'Test Loss':   loss_test\n",
    "})\n",
    "csv_path = \"models/loss2.csv\"\n",
    "df_loss.to_csv(csv_path, index=False)\n",
    "print(f\"Loss enregistrées dans : {csv_path}\")\n",
    "\n",
    "model_path = \"models/model2.pkl\"\n",
    "with open(model_path, \"wb\") as f:\n",
    "    pickle.dump(optim, f)\n",
    "print(f\"Modèle entraîné enregistré dans : {model_path}\")"
   ]
  },
  {
   "cell_type": "markdown",
   "id": "3e03bede",
   "metadata": {},
   "source": [
    "# Model 3 (model 6 de Louis) "
   ]
  },
  {
   "cell_type": "code",
   "execution_count": 51,
   "id": "1dd10647",
   "metadata": {},
   "outputs": [
    {
     "name": "stderr",
     "output_type": "stream",
     "text": [
      "  0%|          | 0/50 [00:00<?, ?it/s]"
     ]
    },
    {
     "name": "stderr",
     "output_type": "stream",
     "text": [
      "  2%|▏         | 1/50 [00:26<21:25, 26.24s/it]"
     ]
    },
    {
     "name": "stdout",
     "output_type": "stream",
     "text": [
      "Epoch 0 - Train Loss: 0.4105 - Test Loss: 0.3562\n"
     ]
    },
    {
     "name": "stderr",
     "output_type": "stream",
     "text": [
      " 22%|██▏       | 11/50 [04:52<17:11, 26.44s/it]"
     ]
    },
    {
     "name": "stdout",
     "output_type": "stream",
     "text": [
      "Epoch 10 - Train Loss: 0.2919 - Test Loss: 0.2938\n"
     ]
    },
    {
     "name": "stderr",
     "output_type": "stream",
     "text": [
      " 42%|████▏     | 21/50 [09:07<12:03, 24.93s/it]"
     ]
    },
    {
     "name": "stdout",
     "output_type": "stream",
     "text": [
      "Epoch 20 - Train Loss: 0.2828 - Test Loss: 0.2821\n"
     ]
    },
    {
     "name": "stderr",
     "output_type": "stream",
     "text": [
      " 62%|██████▏   | 31/50 [13:58<10:23, 32.82s/it]"
     ]
    },
    {
     "name": "stdout",
     "output_type": "stream",
     "text": [
      "Epoch 30 - Train Loss: 0.2784 - Test Loss: 0.2778\n"
     ]
    },
    {
     "name": "stderr",
     "output_type": "stream",
     "text": [
      " 82%|████████▏ | 41/50 [18:40<03:33, 23.76s/it]"
     ]
    },
    {
     "name": "stdout",
     "output_type": "stream",
     "text": [
      "Epoch 40 - Train Loss: 0.2759 - Test Loss: 0.2762\n"
     ]
    },
    {
     "name": "stderr",
     "output_type": "stream",
     "text": [
      "100%|██████████| 50/50 [22:43<00:00, 27.27s/it]\n"
     ]
    },
    {
     "data": {
      "image/png": "[encoded data removed]",
      "text/plain": [
       "<Figure size 1500x600 with 10 Axes>"
      ]
     },
     "metadata": {},
     "output_type": "display_data"
    },
    {
     "data": {
      "image/png": "[encoded data removed]",
      "text/plain": [
       "<Figure size 1500x600 with 10 Axes>"
      ]
     },
     "metadata": {},
     "output_type": "display_data"
    }
   ],
   "source": [
    "module1 = Linear(784, 424)\n",
    "module2 = Linear(424, 128)\n",
    "module3 = Linear(128, 32)\n",
    "module4 = Linear(32, 128, weight=module4._parameters[\"w\"].T)\n",
    "module5 = Linear(128, 424, weight=module2._parameters[\"w\"].T)\n",
    "module6 = Linear(424, 784, weight=module1._parameters[\"w\"].T)\n",
    "act = LeakyReLU(0.01)\n",
    "model = Sequential([\n",
    "    module1, act,\n",
    "    module2, act,\n",
    "    module3, act,\n",
    "    module4, act,\n",
    "    module5, act,\n",
    "    module6, Sigmoid()  # sortie finale [0,1] pour BCELoss\n",
    "])\n",
    "loss = BCELoss()\n",
    "eps_init = 1e-1\n",
    "optim = Optim(model, loss=loss, eps=eps_init)\n",
    "\n",
    "# Entraînement avec mini-batch et décroissance de eps\n",
    "loss_train, loss_test = [], []\n",
    "batch_size = 128\n",
    "n_epochs = 50\n",
    "\n",
    "for epoch in tqdm(range(n_epochs)):\n",
    "    eps = eps_init * (0.97 ** epoch)\n",
    "    epoch_loss = 0\n",
    "    indices = np.random.permutation(len(X_train))\n",
    "    X_shuffled = X_train[indices]\n",
    "    y_shuffled = X_train[indices]  \n",
    "    for i in range(0, len(X_train), batch_size):\n",
    "        xb = X_shuffled[i:i + batch_size]\n",
    "        yb = y_shuffled[i:i + batch_size]\n",
    "        lt, _ = optim.step(xb, yb, None, None, eps=eps)\n",
    "        epoch_loss += lt * len(xb)\n",
    "\n",
    "    loss_train.append(epoch_loss / len(X_train))\n",
    "\n",
    "    lte, _ = optim.test(X_test, X_test)\n",
    "    loss_test.append(lte)\n",
    "\n",
    "    if epoch % 10 == 0:\n",
    "        print(f\"Epoch {epoch} - Train Loss: {loss_train[-1]:.4f} - Test Loss: {loss_test[-1]:.4f}\")\n",
    "        \n",
    "loss, pred = optim.test(X_test[:10], X_test[:10])\n",
    "display_images(X_test[:10], ncols=10, figsize=(15, 6))\n",
    "display_images(pred[:10], ncols=10, figsize=(15, 6))\n",
    "df = pd.DataFrame(loss_train)"
   ]
  },
  {
   "cell_type": "code",
   "execution_count": 53,
   "id": "5ec7fe0a",
   "metadata": {},
   "outputs": [
    {
     "name": "stdout",
     "output_type": "stream",
     "text": [
      "Loss enregistrées dans : models/loss3.csv\n",
      "Modèle entraîné enregistré dans : models/model3.pkl\n"
     ]
    }
   ],
   "source": [
    "import pickle\n",
    "\n",
    "df_loss = pd.DataFrame({\n",
    "    'Train Loss':  loss_train,\n",
    "    'Test Loss':   loss_test\n",
    "})\n",
    "csv_path = \"models/loss3.csv\"\n",
    "df_loss.to_csv(csv_path, index=False)\n",
    "print(f\"Loss enregistrées dans : {csv_path}\")\n",
    "\n",
    "model_path = \"models/model3.pkl\"\n",
    "with open(model_path, \"wb\") as f:\n",
    "    pickle.dump(optim, f)\n",
    "print(f\"Modèle entraîné enregistré dans : {model_path}\")"
   ]
  },
  {
   "cell_type": "markdown",
   "id": "620e97bc",
   "metadata": {},
   "source": [
    "# Model 4 (Model 8 de Louis)"
   ]
  },
  {
   "cell_type": "code",
   "execution_count": 47,
   "id": "2362e9d4",
   "metadata": {},
   "outputs": [
    {
     "name": "stderr",
     "output_type": "stream",
     "text": [
      "  0%|          | 0/100 [00:00<?, ?it/s]"
     ]
    },
    {
     "name": "stderr",
     "output_type": "stream",
     "text": [
      "  1%|          | 1/100 [00:13<22:58, 13.92s/it]"
     ]
    },
    {
     "name": "stdout",
     "output_type": "stream",
     "text": [
      "Epoch 0 - Train Loss: 0.4118 - Test Loss: 0.3691\n"
     ]
    },
    {
     "name": "stderr",
     "output_type": "stream",
     "text": [
      " 11%|█         | 11/100 [03:46<36:56, 24.91s/it]"
     ]
    },
    {
     "name": "stdout",
     "output_type": "stream",
     "text": [
      "Epoch 10 - Train Loss: 0.3254 - Test Loss: 0.3258\n"
     ]
    },
    {
     "name": "stderr",
     "output_type": "stream",
     "text": [
      " 21%|██        | 21/100 [06:11<19:23, 14.72s/it]"
     ]
    },
    {
     "name": "stdout",
     "output_type": "stream",
     "text": [
      "Epoch 20 - Train Loss: 0.3195 - Test Loss: 0.3197\n"
     ]
    },
    {
     "name": "stderr",
     "output_type": "stream",
     "text": [
      " 31%|███       | 31/100 [08:29<16:16, 14.15s/it]"
     ]
    },
    {
     "name": "stdout",
     "output_type": "stream",
     "text": [
      "Epoch 30 - Train Loss: 0.3167 - Test Loss: 0.3158\n"
     ]
    },
    {
     "name": "stderr",
     "output_type": "stream",
     "text": [
      " 41%|████      | 41/100 [16:28<30:49, 31.35s/it]   "
     ]
    },
    {
     "name": "stdout",
     "output_type": "stream",
     "text": [
      "Epoch 40 - Train Loss: 0.3152 - Test Loss: 0.3138\n"
     ]
    },
    {
     "name": "stderr",
     "output_type": "stream",
     "text": [
      " 51%|█████     | 51/100 [34:40<2:54:35, 213.78s/it]"
     ]
    },
    {
     "name": "stdout",
     "output_type": "stream",
     "text": [
      "Epoch 50 - Train Loss: 0.3143 - Test Loss: 0.3131\n"
     ]
    },
    {
     "name": "stderr",
     "output_type": "stream",
     "text": [
      " 51%|█████     | 51/100 [34:45<33:23, 40.89s/it]   \n"
     ]
    },
    {
     "ename": "KeyboardInterrupt",
     "evalue": "",
     "output_type": "error",
     "traceback": [
      "\u001b[1;31m---------------------------------------------------------------------------\u001b[0m",
      "\u001b[1;31mKeyboardInterrupt\u001b[0m                         Traceback (most recent call last)",
      "Cell \u001b[1;32mIn[47], line 33\u001b[0m\n\u001b[0;32m     31\u001b[0m     xb \u001b[38;5;241m=\u001b[39m X_shuffled[i:i \u001b[38;5;241m+\u001b[39m batch_size]\n\u001b[0;32m     32\u001b[0m     yb \u001b[38;5;241m=\u001b[39m y_shuffled[i:i \u001b[38;5;241m+\u001b[39m batch_size]\n\u001b[1;32m---> 33\u001b[0m     lt, _ \u001b[38;5;241m=\u001b[39m optim\u001b[38;5;241m.\u001b[39mstep(xb, yb, \u001b[38;5;28;01mNone\u001b[39;00m, \u001b[38;5;28;01mNone\u001b[39;00m, eps\u001b[38;5;241m=\u001b[39meps)\n\u001b[0;32m     34\u001b[0m     epoch_loss \u001b[38;5;241m+\u001b[39m\u001b[38;5;241m=\u001b[39m lt \u001b[38;5;241m*\u001b[39m \u001b[38;5;28mlen\u001b[39m(xb)\n\u001b[0;32m     36\u001b[0m loss_train\u001b[38;5;241m.\u001b[39mappend(epoch_loss \u001b[38;5;241m/\u001b[39m \u001b[38;5;28mlen\u001b[39m(X_train))\n",
      "File \u001b[1;32mc:\\Users\\yacin\\Desktop\\M1\\ML\\M1-S2-ML\\src\\modules\\sequential.py:80\u001b[0m, in \u001b[0;36mOptim.step\u001b[1;34m(self, batch_x, batch_y, batch_x_test, batch_y_test, eps)\u001b[0m\n\u001b[0;32m     78\u001b[0m loss_delta \u001b[38;5;241m=\u001b[39m \u001b[38;5;28mself\u001b[39m\u001b[38;5;241m.\u001b[39mloss\u001b[38;5;241m.\u001b[39mbackward(batch_y, forward)\n\u001b[0;32m     79\u001b[0m \u001b[38;5;28mself\u001b[39m\u001b[38;5;241m.\u001b[39mmodel_sequentiel\u001b[38;5;241m.\u001b[39mzero_grad()\n\u001b[1;32m---> 80\u001b[0m \u001b[38;5;28mself\u001b[39m\u001b[38;5;241m.\u001b[39mmodel_sequentiel\u001b[38;5;241m.\u001b[39mbackward(batch_x, loss_delta)\n\u001b[0;32m     81\u001b[0m \u001b[38;5;28mself\u001b[39m\u001b[38;5;241m.\u001b[39mmodel_sequentiel\u001b[38;5;241m.\u001b[39mupdate_parameters(\u001b[38;5;28mself\u001b[39m\u001b[38;5;241m.\u001b[39meps)\n\u001b[0;32m     82\u001b[0m \u001b[38;5;28;01mif\u001b[39;00m batch_x_test \u001b[38;5;129;01mis\u001b[39;00m \u001b[38;5;129;01mnot\u001b[39;00m \u001b[38;5;28;01mNone\u001b[39;00m \u001b[38;5;129;01mand\u001b[39;00m batch_y_test \u001b[38;5;129;01mis\u001b[39;00m \u001b[38;5;129;01mnot\u001b[39;00m \u001b[38;5;28;01mNone\u001b[39;00m:\n",
      "File \u001b[1;32mc:\\Users\\yacin\\Desktop\\M1\\ML\\M1-S2-ML\\src\\modules\\sequential.py:60\u001b[0m, in \u001b[0;36mSequential.backward\u001b[1;34m(self, X, delta)\u001b[0m\n\u001b[0;32m     58\u001b[0m \u001b[38;5;28;01mfor\u001b[39;00m module, input_layer \u001b[38;5;129;01min\u001b[39;00m \u001b[38;5;28mzip\u001b[39m(\u001b[38;5;28mreversed\u001b[39m(\u001b[38;5;28mself\u001b[39m\u001b[38;5;241m.\u001b[39m_layers), \u001b[38;5;28mreversed\u001b[39m(\u001b[38;5;28mself\u001b[39m\u001b[38;5;241m.\u001b[39m_inputs)):\n\u001b[0;32m     59\u001b[0m     \u001b[38;5;28;01mif\u001b[39;00m \u001b[38;5;129;01mnot\u001b[39;00m module\u001b[38;5;241m.\u001b[39mis_activation():\n\u001b[1;32m---> 60\u001b[0m         module\u001b[38;5;241m.\u001b[39mbackward_update_gradient(input_layer, delta)\n\u001b[0;32m     61\u001b[0m     delta \u001b[38;5;241m=\u001b[39m module\u001b[38;5;241m.\u001b[39mbackward_delta(input_layer, delta)\n\u001b[0;32m     62\u001b[0m \u001b[38;5;28;01mreturn\u001b[39;00m delta\n",
      "File \u001b[1;32mc:\\Users\\yacin\\Desktop\\M1\\ML\\M1-S2-ML\\src\\modules\\linear.py:28\u001b[0m, in \u001b[0;36mLinear.backward_update_gradient\u001b[1;34m(self, input, delta)\u001b[0m\n\u001b[0;32m     26\u001b[0m \u001b[38;5;28;01mdef\u001b[39;00m \u001b[38;5;21mbackward_update_gradient\u001b[39m(\u001b[38;5;28mself\u001b[39m, \u001b[38;5;28minput\u001b[39m, delta):\n\u001b[0;32m     27\u001b[0m     \u001b[38;5;28mself\u001b[39m\u001b[38;5;241m.\u001b[39m_gradient[\u001b[38;5;124m\"\u001b[39m\u001b[38;5;124mw\u001b[39m\u001b[38;5;124m\"\u001b[39m] \u001b[38;5;241m+\u001b[39m\u001b[38;5;241m=\u001b[39m  \u001b[38;5;28minput\u001b[39m\u001b[38;5;241m.\u001b[39mT \u001b[38;5;241m@\u001b[39m delta\n\u001b[1;32m---> 28\u001b[0m     \u001b[38;5;28mself\u001b[39m\u001b[38;5;241m.\u001b[39m_gradient[\u001b[38;5;124m\"\u001b[39m\u001b[38;5;124mb\u001b[39m\u001b[38;5;124m\"\u001b[39m] \u001b[38;5;241m+\u001b[39m\u001b[38;5;241m=\u001b[39m np\u001b[38;5;241m.\u001b[39msum(delta, axis\u001b[38;5;241m=\u001b[39m\u001b[38;5;241m0\u001b[39m)\n",
      "File \u001b[1;32mc:\\Users\\yacin\\anaconda3\\Lib\\site-packages\\numpy\\core\\fromnumeric.py:2172\u001b[0m, in \u001b[0;36m_sum_dispatcher\u001b[1;34m(a, axis, dtype, out, keepdims, initial, where)\u001b[0m\n\u001b[0;32m   2102\u001b[0m \u001b[38;5;250m    \u001b[39m\u001b[38;5;124;03m\"\"\"\u001b[39;00m\n\u001b[0;32m   2103\u001b[0m \u001b[38;5;124;03m    Clip (limit) the values in an array.\u001b[39;00m\n\u001b[0;32m   2104\u001b[0m \n\u001b[1;32m   (...)\u001b[0m\n\u001b[0;32m   2167\u001b[0m \n\u001b[0;32m   2168\u001b[0m \u001b[38;5;124;03m    \"\"\"\u001b[39;00m\n\u001b[0;32m   2169\u001b[0m     \u001b[38;5;28;01mreturn\u001b[39;00m _wrapfunc(a, \u001b[38;5;124m'\u001b[39m\u001b[38;5;124mclip\u001b[39m\u001b[38;5;124m'\u001b[39m, a_min, a_max, out\u001b[38;5;241m=\u001b[39mout, \u001b[38;5;241m*\u001b[39m\u001b[38;5;241m*\u001b[39mkwargs)\n\u001b[1;32m-> 2172\u001b[0m \u001b[38;5;28;01mdef\u001b[39;00m \u001b[38;5;21m_sum_dispatcher\u001b[39m(a, axis\u001b[38;5;241m=\u001b[39m\u001b[38;5;28;01mNone\u001b[39;00m, dtype\u001b[38;5;241m=\u001b[39m\u001b[38;5;28;01mNone\u001b[39;00m, out\u001b[38;5;241m=\u001b[39m\u001b[38;5;28;01mNone\u001b[39;00m, keepdims\u001b[38;5;241m=\u001b[39m\u001b[38;5;28;01mNone\u001b[39;00m,\n\u001b[0;32m   2173\u001b[0m                     initial\u001b[38;5;241m=\u001b[39m\u001b[38;5;28;01mNone\u001b[39;00m, where\u001b[38;5;241m=\u001b[39m\u001b[38;5;28;01mNone\u001b[39;00m):\n\u001b[0;32m   2174\u001b[0m     \u001b[38;5;28;01mreturn\u001b[39;00m (a, out)\n\u001b[0;32m   2177\u001b[0m \u001b[38;5;129m@array_function_dispatch\u001b[39m(_sum_dispatcher)\n\u001b[0;32m   2178\u001b[0m \u001b[38;5;28;01mdef\u001b[39;00m \u001b[38;5;21msum\u001b[39m(a, axis\u001b[38;5;241m=\u001b[39m\u001b[38;5;28;01mNone\u001b[39;00m, dtype\u001b[38;5;241m=\u001b[39m\u001b[38;5;28;01mNone\u001b[39;00m, out\u001b[38;5;241m=\u001b[39m\u001b[38;5;28;01mNone\u001b[39;00m, keepdims\u001b[38;5;241m=\u001b[39mnp\u001b[38;5;241m.\u001b[39m_NoValue,\n\u001b[0;32m   2179\u001b[0m         initial\u001b[38;5;241m=\u001b[39mnp\u001b[38;5;241m.\u001b[39m_NoValue, where\u001b[38;5;241m=\u001b[39mnp\u001b[38;5;241m.\u001b[39m_NoValue):\n",
      "\u001b[1;31mKeyboardInterrupt\u001b[0m: "
     ]
    }
   ],
   "source": [
    "module1 = Linear(784, 264)\n",
    "module2 = Linear(264, 3)\n",
    "module5 = Linear(3, 264, weight=module2._parameters[\"w\"].T)\n",
    "module6 = Linear(264, 784, weight=module1._parameters[\"w\"].T)\n",
    "act = LeakyReLU(0.01)\n",
    "\n",
    "model = Sequential([\n",
    "    module1, act,\n",
    "    module2, act,\n",
    "    module5, act,\n",
    "    module6, Sigmoid()\n",
    "])\n",
    "\n",
    "loss = BCELoss()\n",
    "eps_init = 1e-1\n",
    "optim = Optim(model, loss=loss, eps=eps_init)\n",
    "\n",
    "# Entraînement avec mini-batch et décroissance de eps\n",
    "loss_train, loss_test = [], []\n",
    "batch_size = 128\n",
    "n_epochs = 50\n",
    "\n",
    "for epoch in tqdm(range(n_epochs)):\n",
    "    eps = eps_init * (0.97 ** epoch)\n",
    "    epoch_loss = 0\n",
    "    indices = np.random.permutation(len(X_train))\n",
    "    X_shuffled = X_train[indices]\n",
    "    y_shuffled = X_train[indices]  # auto-encodeur => y = x\n",
    "\n",
    "    for i in range(0, len(X_train), batch_size):\n",
    "        xb = X_shuffled[i:i + batch_size]\n",
    "        yb = y_shuffled[i:i + batch_size]\n",
    "        lt, _ = optim.step(xb, yb, None, None, eps=eps)\n",
    "        epoch_loss += lt * len(xb)\n",
    "\n",
    "    loss_train.append(epoch_loss / len(X_train))\n",
    "\n",
    "    # Calcul de la perte sur test\n",
    "    lte, _ = optim.test(X_test, X_test)\n",
    "    loss_test.append(lte)\n",
    "\n",
    "    if epoch % 10 == 0:\n",
    "        print(f\"Epoch {epoch} - Train Loss: {loss_train[-1]:.4f} - Test Loss: {loss_test[-1]:.4f}\")"
   ]
  },
  {
   "cell_type": "code",
   "execution_count": 50,
   "id": "ae3e4219",
   "metadata": {},
   "outputs": [
    {
     "data": {
      "image/png": "[encoded data removed]",
      "text/plain": [
       "<Figure size 1500x600 with 10 Axes>"
      ]
     },
     "metadata": {},
     "output_type": "display_data"
    },
    {
     "data": {
      "image/png": "[encoded data removed]",
      "text/plain": [
       "<Figure size 1500x600 with 10 Axes>"
      ]
     },
     "metadata": {},
     "output_type": "display_data"
    },
    {
     "data": {
      "text/plain": [
       "0.31434933221719885"
      ]
     },
     "metadata": {},
     "output_type": "display_data"
    },
    {
     "name": "stdout",
     "output_type": "stream",
     "text": [
      "Loss enregistrées dans : models/loss4.csv\n",
      "Modèle entraîné enregistré dans : models/model4.pkl\n"
     ]
    },
    {
     "data": {
      "image/png": "[encoded data removed]",
      "text/plain": [
       "<Figure size 640x480 with 1 Axes>"
      ]
     },
     "metadata": {},
     "output_type": "display_data"
    }
   ],
   "source": [
    "loss, pred = optim.test(X_test[:10], X_test[:10])\n",
    "display_images(X_test[:10], ncols=10, figsize=(15, 6))\n",
    "display_images(pred[:10], ncols=10, figsize=(15, 6))\n",
    "df = pd.DataFrame(loss_train)\n",
    "sns.lineplot(data=df, palette=\"tab10\", linewidth=2.5)\n",
    "display(loss_train[-1])\n",
    "\n",
    "import pickle\n",
    "\n",
    "df_loss = pd.DataFrame({\n",
    "    'Train Loss':  loss_train,\n",
    "    'Test Loss':   loss_test\n",
    "})\n",
    "csv_path = \"models/loss4.csv\"\n",
    "df_loss.to_csv(csv_path, index=False)\n",
    "print(f\"Loss enregistrées dans : {csv_path}\")\n",
    "\n",
    "model_path = \"models/model4.pkl\"\n",
    "with open(model_path, \"wb\") as f:\n",
    "    pickle.dump(optim, f)\n",
    "print(f\"Modèle entraîné enregistré dans : {model_path}\")"
   ]
  },
  {
   "cell_type": "code",
   "execution_count": null,
   "id": "7dc84958",
   "metadata": {},
   "outputs": [],
   "source": []
  }
 ],
 "metadata": {
  "kernelspec": {
   "display_name": "base",
   "language": "python",
   "name": "python3"
  },
  "language_info": {
   "codemirror_mode": {
    "name": "ipython",
    "version": 3
   },
   "file_extension": ".py",
   "mimetype": "text/x-python",
   "name": "python",
   "nbconvert_exporter": "python",
   "pygments_lexer": "ipython3",
   "version": "3.11.5"
  }
 },
 "nbformat": 4,
 "nbformat_minor": 5
}
